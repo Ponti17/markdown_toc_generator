{
 "cells": [
  {
   "cell_type": "code",
   "execution_count": 90,
   "metadata": {},
   "outputs": [],
   "source": [
    "# Enter filename and path\n",
    "filename = \"ADC\"\n",
    "file_path = r\"C:\\Users\\techu\\OneDrive\\MainVault\\Study\\6.Semester\\Bsc\\\\\" + filename + \".md\"\n",
    "\n",
    "# Generate table of contents links\n",
    "md_titles = []\n",
    "f = open(file_path, \"r\")\n",
    "for line in f:\n",
    "    if line.startswith(\"#\"):\n",
    "        titles = line.replace(\"#\", \"\")\n",
    "        title = \"[[\" + filename + \"#\" + titles.strip() + \"|\" + titles.strip() + \"]]\\r\\n\"\n",
    "        # print(title)\n",
    "        md_titles.append(title)\n",
    "f.close()\n",
    "\n",
    "# Generate table of contents\n",
    "table_of_contents = \"# Table of Contents\\n---\\n\"\n",
    "for title in md_titles:\n",
    "    table_of_contents += f\"{title}\"\n",
    "table_of_contents = table_of_contents[:table_of_contents.rfind(\"\\n\")] # Remove last newline\n",
    "\n",
    "# Get string of markdown file\n",
    "with open(file_path, \"r\") as file:\n",
    "    md_content = file.read()\n",
    "    \n",
    "# Check if TOC exists\n",
    "toc_exists = False\n",
    "if md_content.startswith(\"# Table of Contents\"):\n",
    "    toc_exists = True\n",
    "\n",
    "# Remove old TOC \n",
    "if toc_exists:\n",
    "    lines = md_content.splitlines()\n",
    "    for i in range(len(lines) - 1):\n",
    "        if lines[i + 1].startswith(\"#\"):\n",
    "            end_index = i\n",
    "            break\n",
    "    del lines[0:end_index + 1]\n",
    "    md_content = \"\\n\".join(lines)\n",
    "\n",
    "# Update string with TOC\n",
    "md_content = table_of_contents + md_content\n",
    "\n",
    "# Write to file\n",
    "with open(file_path, \"w\") as file:\n",
    "    file.write(md_content)\n"
   ]
  },
  {
   "cell_type": "code",
   "execution_count": null,
   "metadata": {},
   "outputs": [],
   "source": []
  }
 ],
 "metadata": {
  "kernelspec": {
   "display_name": "Python 3",
   "language": "python",
   "name": "python3"
  },
  "language_info": {
   "codemirror_mode": {
    "name": "ipython",
    "version": 3
   },
   "file_extension": ".py",
   "mimetype": "text/x-python",
   "name": "python",
   "nbconvert_exporter": "python",
   "pygments_lexer": "ipython3",
   "version": "3.10.8"
  }
 },
 "nbformat": 4,
 "nbformat_minor": 2
}
